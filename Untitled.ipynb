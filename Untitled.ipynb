{
 "cells": [
  {
   "cell_type": "markdown",
   "id": "applicable-remainder",
   "metadata": {},
   "source": [
    "### Case Study: Wind Turbines components market Prices \n",
    "\n",
    "### Introduction\n",
    "\n",
    "As an Energy Consultant, I am interested on the latest prices of wind turbines market. Specififically:\n",
    "\n",
    "    - Offered price. \n",
    "    - Reviews. Do reviews affect price and what percentage of components have reviews?\n",
    "   "
   ]
  },
  {
   "cell_type": "code",
   "execution_count": null,
   "id": "regulation-inventory",
   "metadata": {},
   "outputs": [],
   "source": [
    "!pip install "
   ]
  },
  {
   "cell_type": "code",
   "execution_count": 1,
   "id": "macro-seller",
   "metadata": {},
   "outputs": [
    {
     "name": "stdout",
     "output_type": "stream",
     "text": [
      "Packages loaded\n"
     ]
    }
   ],
   "source": [
    "#Loading dependencies\n",
    "\n",
    "import pandas as pd\n",
    "import numpy as np\n",
    "import matplotlib.pyplot as plt\n",
    "import seaborn as sns\n",
    "import pdb\n",
    "from IPython.display import display, HTML\n",
    "import re\n",
    "from bs4 import BeautifulSoup as bs\n",
    "#pd.set_option('disply.max_colwidth',-1)\n",
    "%matplotlib inline\n",
    "\n",
    "print('Packages loaded')"
   ]
  },
  {
   "cell_type": "markdown",
   "id": "directed-concentration",
   "metadata": {},
   "source": [
    "### Scraping \n",
    "#### Retriving results from specific region "
   ]
  },
  {
   "cell_type": "code",
   "execution_count": 2,
   "id": "medical-switzerland",
   "metadata": {},
   "outputs": [],
   "source": [
    "## To scrap only genertors \n",
    "url = 'https://en.wind-turbine.com/market-place/components/generators'\n",
    "    "
   ]
  },
  {
   "cell_type": "code",
   "execution_count": 5,
   "id": "adolescent-valve",
   "metadata": {},
   "outputs": [
    {
     "ename": "SyntaxError",
     "evalue": "invalid syntax (<ipython-input-5-def93de21e42>, line 2)",
     "output_type": "error",
     "traceback": [
      "\u001b[0;36m  File \u001b[0;32m\"<ipython-input-5-def93de21e42>\"\u001b[0;36m, line \u001b[0;32m2\u001b[0m\n\u001b[0;31m    <div class=\"cc_banner-wrapper \"></div>\u001b[0m\n\u001b[0m    ^\u001b[0m\n\u001b[0;31mSyntaxError\u001b[0m\u001b[0;31m:\u001b[0m invalid syntax\n"
     ]
    }
   ],
   "source": [
    "## Beginning of the Div\n",
    "<div class=\"cc_banner-wrapper \"></div>\n",
    "\n",
    "## Ending of the Div\n",
    "<div class=\"wi_modal-overlay\"> id= \"modal-overlay\"></div>\n"
   ]
  },
  {
   "cell_type": "code",
   "execution_count": null,
   "id": "representative-joshua",
   "metadata": {},
   "outputs": [],
   "source": [
    "## Pull raw HTML\n",
    "html= get(url)\n",
    "soup= Beauti"
   ]
  }
 ],
 "metadata": {
  "kernelspec": {
   "display_name": "Python 3",
   "language": "python",
   "name": "python3"
  },
  "language_info": {
   "codemirror_mode": {
    "name": "ipython",
    "version": 3
   },
   "file_extension": ".py",
   "mimetype": "text/x-python",
   "name": "python",
   "nbconvert_exporter": "python",
   "pygments_lexer": "ipython3",
   "version": "3.8.5"
  }
 },
 "nbformat": 4,
 "nbformat_minor": 5
}
