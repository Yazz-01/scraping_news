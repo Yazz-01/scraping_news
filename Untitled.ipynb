{
 "cells": [
  {
   "cell_type": "markdown",
   "id": "perfect-essex",
   "metadata": {},
   "source": [
    "### Case Study: Wind Turbines components market Prices \n",
    "\n",
    "### Introduction\n",
    "\n",
    "As an Energy Consultant, I am interested on the latest prices of wind turbines market. Specififically:\n",
    "\n",
    "    - Offered price. \n",
    "    - Reviews. Do reviews affect price and what percentage of components have reviews?\n",
    "   "
   ]
  },
  {
   "cell_type": "code",
   "execution_count": null,
   "id": "ranging-damages",
   "metadata": {},
   "outputs": [],
   "source": [
    "!pip install "
   ]
  },
  {
   "cell_type": "code",
   "execution_count": 1,
   "id": "absent-preview",
   "metadata": {},
   "outputs": [
    {
     "name": "stdout",
     "output_type": "stream",
     "text": [
      "Packages loaded\n"
     ]
    }
   ],
   "source": [
    "#Loading dependencies\n",
    "\n",
    "import pandas as pd\n",
    "import numpy as np\n",
    "import matplotlib.pyplot as plt\n",
    "import seaborn as sns\n",
    "import pdb\n",
    "from IPython.display import display, HTML\n",
    "import re\n",
    "from bs4 import BeautifulSoup\n",
    "#pd.set_option('disply.max_colwidth',-1)\n",
    "%matplotlib inline\n",
    "\n",
    "print('Packages loaded')"
   ]
  },
  {
   "cell_type": "markdown",
   "id": "bottom-cleaner",
   "metadata": {},
   "source": [
    "### Scraping \n",
    "#### Retriving results from specific region "
   ]
  },
  {
   "cell_type": "code",
   "execution_count": null,
   "id": "suited-effect",
   "metadata": {},
   "outputs": [],
   "source": [
    "url = https://en.wind-turbine.com/market-place/components/generators"
   ]
  },
  {
   "cell_type": "code",
   "execution_count": null,
   "id": "ambient-affect",
   "metadata": {},
   "outputs": [],
   "source": []
  },
  {
   "cell_type": "code",
   "execution_count": null,
   "id": "ceramic-catalog",
   "metadata": {},
   "outputs": [],
   "source": []
  }
 ],
 "metadata": {
  "kernelspec": {
   "display_name": "Python 3",
   "language": "python",
   "name": "python3"
  },
  "language_info": {
   "codemirror_mode": {
    "name": "ipython",
    "version": 3
   },
   "file_extension": ".py",
   "mimetype": "text/x-python",
   "name": "python",
   "nbconvert_exporter": "python",
   "pygments_lexer": "ipython3",
   "version": "3.8.5"
  }
 },
 "nbformat": 4,
 "nbformat_minor": 5
}
